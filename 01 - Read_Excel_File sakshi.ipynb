{
 "cells": [
  {
   "cell_type": "code",
   "execution_count": 1,
   "metadata": {},
   "outputs": [],
   "source": [
    "__author__ = \"Sakshi Sharma\"\n",
    "__copyright__ = \"Copyright 2019, TTC Bus Delay Data Project\"\n",
    "__credits__ = [\"Sakshi\"]\n",
    "__license__ = \"GPL\"\n",
    "__version__ = \"1.0.0\"\n",
    "__maintainer__ = \"TBD\"\n",
    "__email__ = \"12sakshi@gmail.com\"\n",
    "__status__ = \"Submitted for Grading\""
   ]
  },
  {
   "cell_type": "code",
   "execution_count": 2,
   "metadata": {},
   "outputs": [],
   "source": [
    "import pandas as pd\n",
    "import numpy as np\n",
    "import matplotlib.pyplot as plt\n",
    "%matplotlib inline\n",
    "import seaborn as sns\n",
    "sns.set()\n",
    "from datetime import datetime\n",
    "startTime = datetime.now()"
   ]
  },
  {
   "cell_type": "markdown",
   "metadata": {},
   "source": [
    "# List of Excel File Names"
   ]
  },
  {
   "cell_type": "code",
   "execution_count": 5,
   "metadata": {},
   "outputs": [],
   "source": [
    "#filename = ['bus2014.xlsx','bus2015.xlsx','bus2016.xlsx','bus2017.xlsx','bus2018.xlsx','bus2019.xlsx']\n",
    "#filenamelist = ['bus 2014.xlsx','bus 2015.xlsx','bus 2016.xlsx','bus 2017.xlsx','bus 2018.xlsx','bus_2019.xlsx']\n",
    "filenamelist = ['bus 2014.xlsx','bus 2015.xlsx','bus 2016.xlsx','bus 2017.xlsx','bus_2019.xlsx']"
   ]
  },
  {
   "cell_type": "markdown",
   "metadata": {},
   "source": [
    "# Importing Data to a single Pandas Dataframe"
   ]
  },
  {
   "cell_type": "code",
   "execution_count": 6,
   "metadata": {},
   "outputs": [],
   "source": [
    "def readxls(j):\n",
    "    df = pd.DataFrame()\n",
    "    xls = pd.ExcelFile(j)\n",
    "    sheetnamelist = xls.sheet_names\n",
    "    for sheet in sheetnamelist:\n",
    "        data = pd.read_excel(xls, sheet)\n",
    "        df = df.append(data, sort=False)\n",
    "    return df\n",
    "\n",
    "\n",
    "df = pd.DataFrame()\n",
    "for file in filenamelist:\n",
    "    data = readxls(file)\n",
    "    df = df.append(data, sort=False)\n",
    "df.set_index('Report Date', inplace = True)"
   ]
  },
  {
   "cell_type": "markdown",
   "metadata": {},
   "source": [
    "# Reading The information from Dataframe"
   ]
  },
  {
   "cell_type": "code",
   "execution_count": 5,
   "metadata": {},
   "outputs": [
    {
     "name": "stdout",
     "output_type": "stream",
     "text": [
      "<class 'pandas.core.frame.DataFrame'>\n",
      "DatetimeIndex: 405746 entries, 2014-01-01 to 2019-02-28\n",
      "Data columns (total 10 columns):\n",
      "Route         405746 non-null int64\n",
      "Time          405746 non-null object\n",
      "Day           405746 non-null object\n",
      "Location      405081 non-null object\n",
      "Incident      405746 non-null object\n",
      "Min Delay     400041 non-null float64\n",
      "Min Gap       405143 non-null float64\n",
      "Direction     396968 non-null object\n",
      "Vehicle       347800 non-null float64\n",
      " Min Delay    5503 non-null float64\n",
      "dtypes: float64(4), int64(1), object(5)\n",
      "memory usage: 34.1+ MB\n"
     ]
    }
   ],
   "source": [
    "df.info()"
   ]
  },
  {
   "cell_type": "markdown",
   "metadata": {},
   "source": [
    "### Addressing addition of Min Delay column at the end"
   ]
  },
  {
   "cell_type": "code",
   "execution_count": 6,
   "metadata": {},
   "outputs": [
    {
     "data": {
      "text/html": [
       "<div>\n",
       "<style scoped>\n",
       "    .dataframe tbody tr th:only-of-type {\n",
       "        vertical-align: middle;\n",
       "    }\n",
       "\n",
       "    .dataframe tbody tr th {\n",
       "        vertical-align: top;\n",
       "    }\n",
       "\n",
       "    .dataframe thead th {\n",
       "        text-align: right;\n",
       "    }\n",
       "</style>\n",
       "<table border=\"1\" class=\"dataframe\">\n",
       "  <thead>\n",
       "    <tr style=\"text-align: right;\">\n",
       "      <th></th>\n",
       "      <th>Min Delay</th>\n",
       "    </tr>\n",
       "    <tr>\n",
       "      <th>Report Date</th>\n",
       "      <th></th>\n",
       "    </tr>\n",
       "  </thead>\n",
       "  <tbody>\n",
       "    <tr>\n",
       "      <th>2018-03-01</th>\n",
       "      <td>13.0</td>\n",
       "    </tr>\n",
       "    <tr>\n",
       "      <th>2018-03-01</th>\n",
       "      <td>5.0</td>\n",
       "    </tr>\n",
       "    <tr>\n",
       "      <th>2018-03-01</th>\n",
       "      <td>10.0</td>\n",
       "    </tr>\n",
       "    <tr>\n",
       "      <th>2018-03-01</th>\n",
       "      <td>3.0</td>\n",
       "    </tr>\n",
       "    <tr>\n",
       "      <th>2018-03-01</th>\n",
       "      <td>30.0</td>\n",
       "    </tr>\n",
       "  </tbody>\n",
       "</table>\n",
       "</div>"
      ],
      "text/plain": [
       "              Min Delay\n",
       "Report Date            \n",
       "2018-03-01         13.0\n",
       "2018-03-01          5.0\n",
       "2018-03-01         10.0\n",
       "2018-03-01          3.0\n",
       "2018-03-01         30.0"
      ]
     },
     "execution_count": 6,
     "metadata": {},
     "output_type": "execute_result"
    }
   ],
   "source": [
    "df.iloc[:,-1:].dropna(how='all').head()"
   ]
  },
  {
   "cell_type": "code",
   "execution_count": 7,
   "metadata": {},
   "outputs": [
    {
     "name": "stdout",
     "output_type": "stream",
     "text": [
      "<class 'pandas.core.frame.DataFrame'>\n",
      "DatetimeIndex: 5503 entries, 2018-03-01 to 2018-03-31\n",
      "Data columns (total 1 columns):\n",
      " Min Delay    5503 non-null float64\n",
      "dtypes: float64(1)\n",
      "memory usage: 86.0 KB\n"
     ]
    }
   ],
   "source": [
    "df.iloc[:,-1:].dropna(how='all').info()"
   ]
  },
  {
   "cell_type": "markdown",
   "metadata": {},
   "source": [
    "### Confirmed the source of additional column\n",
    "- March 2018 Data"
   ]
  },
  {
   "cell_type": "code",
   "execution_count": 8,
   "metadata": {},
   "outputs": [
    {
     "name": "stdout",
     "output_type": "stream",
     "text": [
      "<class 'pandas.core.frame.DataFrame'>\n",
      "DatetimeIndex: 5503 entries, 2018-03-01 to 2018-03-31\n",
      "Data columns (total 1 columns):\n",
      " Min Delay    5503 non-null float64\n",
      "dtypes: float64(1)\n",
      "memory usage: 86.0 KB\n"
     ]
    }
   ],
   "source": [
    "df[(df.index >= '2018-03-01') & (df.index <= '2018-03-31')].iloc[:,-1:].dropna(how='all').info()"
   ]
  },
  {
   "cell_type": "markdown",
   "metadata": {},
   "source": [
    "### Correcting the Dataframe"
   ]
  },
  {
   "cell_type": "code",
   "execution_count": 9,
   "metadata": {},
   "outputs": [
    {
     "data": {
      "text/html": [
       "<div>\n",
       "<style scoped>\n",
       "    .dataframe tbody tr th:only-of-type {\n",
       "        vertical-align: middle;\n",
       "    }\n",
       "\n",
       "    .dataframe tbody tr th {\n",
       "        vertical-align: top;\n",
       "    }\n",
       "\n",
       "    .dataframe thead th {\n",
       "        text-align: right;\n",
       "    }\n",
       "</style>\n",
       "<table border=\"1\" class=\"dataframe\">\n",
       "  <thead>\n",
       "    <tr style=\"text-align: right;\">\n",
       "      <th></th>\n",
       "      <th>Route</th>\n",
       "      <th>Time</th>\n",
       "      <th>Day</th>\n",
       "      <th>Location</th>\n",
       "      <th>Incident</th>\n",
       "      <th>Min Delay</th>\n",
       "      <th>Min Gap</th>\n",
       "      <th>Direction</th>\n",
       "      <th>Vehicle</th>\n",
       "    </tr>\n",
       "    <tr>\n",
       "      <th>Report Date</th>\n",
       "      <th></th>\n",
       "      <th></th>\n",
       "      <th></th>\n",
       "      <th></th>\n",
       "      <th></th>\n",
       "      <th></th>\n",
       "      <th></th>\n",
       "      <th></th>\n",
       "      <th></th>\n",
       "    </tr>\n",
       "  </thead>\n",
       "  <tbody>\n",
       "    <tr>\n",
       "      <th>2014-01-01</th>\n",
       "      <td>95</td>\n",
       "      <td>00:23:00</td>\n",
       "      <td>Wednesday</td>\n",
       "      <td>York Mills station</td>\n",
       "      <td>Mechanical</td>\n",
       "      <td>10.0</td>\n",
       "      <td>20.0</td>\n",
       "      <td>E</td>\n",
       "      <td>1734.0</td>\n",
       "    </tr>\n",
       "    <tr>\n",
       "      <th>2014-01-01</th>\n",
       "      <td>102</td>\n",
       "      <td>00:55:00</td>\n",
       "      <td>Wednesday</td>\n",
       "      <td>Entire run for route</td>\n",
       "      <td>General Delay</td>\n",
       "      <td>33.0</td>\n",
       "      <td>66.0</td>\n",
       "      <td>b/w</td>\n",
       "      <td>8110.0</td>\n",
       "    </tr>\n",
       "    <tr>\n",
       "      <th>2014-01-01</th>\n",
       "      <td>54</td>\n",
       "      <td>01:28:00</td>\n",
       "      <td>Wednesday</td>\n",
       "      <td>lawrence and Warden</td>\n",
       "      <td>Mechanical</td>\n",
       "      <td>10.0</td>\n",
       "      <td>20.0</td>\n",
       "      <td>WB</td>\n",
       "      <td>7478.0</td>\n",
       "    </tr>\n",
       "    <tr>\n",
       "      <th>2014-01-01</th>\n",
       "      <td>112</td>\n",
       "      <td>01:30:00</td>\n",
       "      <td>Wednesday</td>\n",
       "      <td>Kipling Station</td>\n",
       "      <td>Emergency Services</td>\n",
       "      <td>18.0</td>\n",
       "      <td>36.0</td>\n",
       "      <td>N</td>\n",
       "      <td>8084.0</td>\n",
       "    </tr>\n",
       "    <tr>\n",
       "      <th>2014-01-01</th>\n",
       "      <td>24</td>\n",
       "      <td>01:37:00</td>\n",
       "      <td>Wednesday</td>\n",
       "      <td>VP and Ellesmere</td>\n",
       "      <td>Investigation</td>\n",
       "      <td>10.0</td>\n",
       "      <td>20.0</td>\n",
       "      <td>n</td>\n",
       "      <td>7843.0</td>\n",
       "    </tr>\n",
       "  </tbody>\n",
       "</table>\n",
       "</div>"
      ],
      "text/plain": [
       "             Route      Time        Day              Location  \\\n",
       "Report Date                                                     \n",
       "2014-01-01      95  00:23:00  Wednesday    York Mills station   \n",
       "2014-01-01     102  00:55:00  Wednesday  Entire run for route   \n",
       "2014-01-01      54  01:28:00  Wednesday   lawrence and Warden   \n",
       "2014-01-01     112  01:30:00  Wednesday       Kipling Station   \n",
       "2014-01-01      24  01:37:00  Wednesday      VP and Ellesmere   \n",
       "\n",
       "                       Incident  Min Delay  Min Gap Direction  Vehicle  \n",
       "Report Date                                                             \n",
       "2014-01-01           Mechanical       10.0     20.0         E   1734.0  \n",
       "2014-01-01        General Delay       33.0     66.0       b/w   8110.0  \n",
       "2014-01-01           Mechanical       10.0     20.0        WB   7478.0  \n",
       "2014-01-01   Emergency Services       18.0     36.0         N   8084.0  \n",
       "2014-01-01        Investigation       10.0     20.0         n   7843.0  "
      ]
     },
     "execution_count": 9,
     "metadata": {},
     "output_type": "execute_result"
    }
   ],
   "source": [
    "df['Min Delay'] = np.where(df['Min Delay'].isnull() == 1, df[' Min Delay'], df['Min Delay'])\n",
    "df[(df.index >= '2018-03-01') & (df.index <= '2018-03-31')].head()\n",
    "df.drop(columns=' Min Delay', inplace = True)\n",
    "df.head()"
   ]
  },
  {
   "cell_type": "markdown",
   "metadata": {},
   "source": [
    "## Export to CSV File"
   ]
  },
  {
   "cell_type": "code",
   "execution_count": 10,
   "metadata": {},
   "outputs": [
    {
     "data": {
      "text/plain": [
       "datetime.timedelta(seconds=70, microseconds=278066)"
      ]
     },
     "execution_count": 10,
     "metadata": {},
     "output_type": "execute_result"
    }
   ],
   "source": [
    "df.to_csv('combined.csv', sep=',')\n",
    "datetime.now() - startTime"
   ]
  }
 ],
 "metadata": {
  "kernelspec": {
   "display_name": "Python 3",
   "language": "python",
   "name": "python3"
  },
  "language_info": {
   "codemirror_mode": {
    "name": "ipython",
    "version": 3
   },
   "file_extension": ".py",
   "mimetype": "text/x-python",
   "name": "python",
   "nbconvert_exporter": "python",
   "pygments_lexer": "ipython3",
   "version": "3.7.3"
  }
 },
 "nbformat": 4,
 "nbformat_minor": 2
}
